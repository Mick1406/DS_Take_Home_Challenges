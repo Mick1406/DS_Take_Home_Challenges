{
 "cells": [
  {
   "cell_type": "markdown",
   "metadata": {},
   "source": [
    "# <center>  User Referral Program - Take Home Challenge"
   ]
  },
  {
   "cell_type": "markdown",
   "metadata": {},
   "source": [
    "# <font color='purple'> Challenge Description\n",
    "<br>Company XYZ has started a new referral program on Oct, 31. Each user who refers a new user\n",
    "will get 10$ in credit when the new user buys something.\n",
    "<br>The program has been running for almost a month and the Growth Product Manager wants to\n",
    "know if it's been successful. She is very excited cause, since the referral program started, the\n",
    "company saw a spike in number of users and wants you to be able to give her some data she\n",
    "can show to her boss. <br>\n",
    "- Can you estimate the impact the program had on the site?\n",
    "- Based on the data, what would you suggest to do as a next step?\n",
    "- The referral program wasn't really tested in a rigorous way. It simply started on a given\n",
    "day for all users and you are drawing conclusions by looking at the data before and after\n",
    "the test started. What kinds of risks this approach presents? Can you think of a better\n",
    "way to test the referral program and measure its impact?"
   ]
  },
  {
   "cell_type": "code",
   "execution_count": 27,
   "metadata": {},
   "outputs": [],
   "source": [
    "# Import required libraries\n",
    "import pandas as pd\n",
    "import datetime as dt\n",
    "from datetime import timedelta\n",
    "\n",
    "import IPython.display\n",
    "import warnings\n",
    "warnings.filterwarnings('ignore')"
   ]
  },
  {
   "cell_type": "markdown",
   "metadata": {},
   "source": [
    "## Import Data"
   ]
  },
  {
   "cell_type": "code",
   "execution_count": 2,
   "metadata": {},
   "outputs": [
    {
     "data": {
      "text/html": [
       "<div>\n",
       "<style scoped>\n",
       "    .dataframe tbody tr th:only-of-type {\n",
       "        vertical-align: middle;\n",
       "    }\n",
       "\n",
       "    .dataframe tbody tr th {\n",
       "        vertical-align: top;\n",
       "    }\n",
       "\n",
       "    .dataframe thead th {\n",
       "        text-align: right;\n",
       "    }\n",
       "</style>\n",
       "<table border=\"1\" class=\"dataframe\">\n",
       "  <thead>\n",
       "    <tr style=\"text-align: right;\">\n",
       "      <th></th>\n",
       "      <th>user_id</th>\n",
       "      <th>date</th>\n",
       "      <th>country</th>\n",
       "      <th>money_spent</th>\n",
       "      <th>is_referral</th>\n",
       "      <th>device_id</th>\n",
       "    </tr>\n",
       "  </thead>\n",
       "  <tbody>\n",
       "    <tr>\n",
       "      <th>0</th>\n",
       "      <td>2</td>\n",
       "      <td>2015-10-03</td>\n",
       "      <td>FR</td>\n",
       "      <td>65</td>\n",
       "      <td>0</td>\n",
       "      <td>EVDCJTZMVMJDG</td>\n",
       "    </tr>\n",
       "    <tr>\n",
       "      <th>1</th>\n",
       "      <td>3</td>\n",
       "      <td>2015-10-03</td>\n",
       "      <td>CA</td>\n",
       "      <td>54</td>\n",
       "      <td>0</td>\n",
       "      <td>WUBZFTVKXGQQX</td>\n",
       "    </tr>\n",
       "    <tr>\n",
       "      <th>2</th>\n",
       "      <td>6</td>\n",
       "      <td>2015-10-03</td>\n",
       "      <td>FR</td>\n",
       "      <td>35</td>\n",
       "      <td>0</td>\n",
       "      <td>CBAPCJRTFNUJG</td>\n",
       "    </tr>\n",
       "    <tr>\n",
       "      <th>3</th>\n",
       "      <td>7</td>\n",
       "      <td>2015-10-03</td>\n",
       "      <td>UK</td>\n",
       "      <td>73</td>\n",
       "      <td>0</td>\n",
       "      <td>PRGXJZAJKMXRH</td>\n",
       "    </tr>\n",
       "    <tr>\n",
       "      <th>4</th>\n",
       "      <td>7</td>\n",
       "      <td>2015-10-03</td>\n",
       "      <td>MX</td>\n",
       "      <td>35</td>\n",
       "      <td>0</td>\n",
       "      <td>PRGXJZAJKMXRH</td>\n",
       "    </tr>\n",
       "  </tbody>\n",
       "</table>\n",
       "</div>"
      ],
      "text/plain": [
       "   user_id        date country  money_spent  is_referral      device_id\n",
       "0        2  2015-10-03      FR           65            0  EVDCJTZMVMJDG\n",
       "1        3  2015-10-03      CA           54            0  WUBZFTVKXGQQX\n",
       "2        6  2015-10-03      FR           35            0  CBAPCJRTFNUJG\n",
       "3        7  2015-10-03      UK           73            0  PRGXJZAJKMXRH\n",
       "4        7  2015-10-03      MX           35            0  PRGXJZAJKMXRH"
      ]
     },
     "execution_count": 2,
     "metadata": {},
     "output_type": "execute_result"
    }
   ],
   "source": [
    "referral = pd.read_csv('referral.csv')\n",
    "referral.head()"
   ]
  },
  {
   "cell_type": "markdown",
   "metadata": {},
   "source": [
    "## Data Transformation / Exploration"
   ]
  },
  {
   "cell_type": "code",
   "execution_count": 28,
   "metadata": {},
   "outputs": [
    {
     "name": "stdout",
     "output_type": "stream",
     "text": [
      "27 days 00:00:00 27 days 00:00:00\n"
     ]
    }
   ],
   "source": [
    "referral['date'] = pd.to_datetime(referral['date'])\n",
    "\n",
    "# Calculate the mumber of days between the 1st date and the launch of referral program AND between the last date and the launch of referral program\n",
    "# Pass these into variables as I may need to use these later\n",
    "launch = dt.datetime(2015, 10, 31)\n",
    "n_days_pre = (launch - timedelta(days=1)) - referral['date'].min()\n",
    "n_days_post = referral['date'].max() - launch\n",
    "\n",
    "print(n_days_pre, n_days_post)"
   ]
  },
  {
   "cell_type": "markdown",
   "metadata": {},
   "source": [
    "Pre and post period have the same number of days! So no need to subselect any dates in those"
   ]
  },
  {
   "cell_type": "code",
   "execution_count": 35,
   "metadata": {},
   "outputs": [
    {
     "data": {
      "text/plain": [
       "b. post    50000\n",
       "a. pre     47341\n",
       "Name: period_flag, dtype: int64"
      ]
     },
     "execution_count": 35,
     "metadata": {},
     "output_type": "execute_result"
    }
   ],
   "source": [
    "# Create a pre and post flag\n",
    "def period_flag(date):\n",
    "    if date < launch:\n",
    "        return 'a. pre'\n",
    "    else:\n",
    "        return 'b. post'\n",
    "    \n",
    "referral['period_flag'] = referral['date'].apply(period_flag)\n",
    "referral['period_flag'].value_counts()"
   ]
  },
  {
   "cell_type": "code",
   "execution_count": 42,
   "metadata": {},
   "outputs": [
    {
     "data": {
      "text/html": [
       "<div>\n",
       "<style scoped>\n",
       "    .dataframe tbody tr th:only-of-type {\n",
       "        vertical-align: middle;\n",
       "    }\n",
       "\n",
       "    .dataframe tbody tr th {\n",
       "        vertical-align: top;\n",
       "    }\n",
       "\n",
       "    .dataframe thead th {\n",
       "        text-align: right;\n",
       "    }\n",
       "</style>\n",
       "<table border=\"1\" class=\"dataframe\">\n",
       "  <thead>\n",
       "    <tr style=\"text-align: right;\">\n",
       "      <th></th>\n",
       "      <th>n_users</th>\n",
       "      <th>n_txns</th>\n",
       "      <th>money_spent</th>\n",
       "      <th>n_referrals</th>\n",
       "      <th>avg_n_users_perday</th>\n",
       "      <th>avg_n_txns_peruser</th>\n",
       "      <th>avg_money_spent_peruser</th>\n",
       "      <th>pct_referrals</th>\n",
       "    </tr>\n",
       "    <tr>\n",
       "      <th>period_flag</th>\n",
       "      <th></th>\n",
       "      <th></th>\n",
       "      <th></th>\n",
       "      <th></th>\n",
       "      <th></th>\n",
       "      <th></th>\n",
       "      <th></th>\n",
       "      <th></th>\n",
       "    </tr>\n",
       "  </thead>\n",
       "  <tbody>\n",
       "    <tr>\n",
       "      <th>a. pre</th>\n",
       "      <td>5000</td>\n",
       "      <td>47341</td>\n",
       "      <td>2006396</td>\n",
       "      <td>0</td>\n",
       "      <td>185.185185</td>\n",
       "      <td>9.468200</td>\n",
       "      <td>401.279200</td>\n",
       "      <td>0.00000</td>\n",
       "    </tr>\n",
       "    <tr>\n",
       "      <th>b. post</th>\n",
       "      <td>18397</td>\n",
       "      <td>50000</td>\n",
       "      <td>2344003</td>\n",
       "      <td>28017</td>\n",
       "      <td>681.370370</td>\n",
       "      <td>2.717834</td>\n",
       "      <td>127.412241</td>\n",
       "      <td>0.56034</td>\n",
       "    </tr>\n",
       "  </tbody>\n",
       "</table>\n",
       "</div>"
      ],
      "text/plain": [
       "             n_users  n_txns  money_spent  n_referrals  avg_n_users_perday  \\\n",
       "period_flag                                                                  \n",
       "a. pre          5000   47341      2006396            0          185.185185   \n",
       "b. post        18397   50000      2344003        28017          681.370370   \n",
       "\n",
       "             avg_n_txns_peruser  avg_money_spent_peruser  pct_referrals  \n",
       "period_flag                                                              \n",
       "a. pre                 9.468200               401.279200        0.00000  \n",
       "b. post                2.717834               127.412241        0.56034  "
      ]
     },
     "execution_count": 42,
     "metadata": {},
     "output_type": "execute_result"
    }
   ],
   "source": [
    "# Create the metrics we require for the impact analysis by period_flag\n",
    "df_metrics = pd.DataFrame([referral.groupby('period_flag').user_id.nunique(),\n",
    "                           referral.groupby('period_flag').user_id.count(),\n",
    "                           referral.groupby('period_flag').money_spent.sum(),\n",
    "                           referral.groupby('period_flag').is_referral.sum()])\n",
    "\n",
    "df_metrics = df_metrics.transpose()\n",
    "df_metrics.columns = ['n_users', 'n_txns', 'money_spent', 'n_referrals' ]\n",
    "\n",
    "# Derive indicators for direct comparison\n",
    "df_metrics['avg_n_users_perday'] = df_metrics['n_users'] / n_days_post.days # using post is ok as pre and post have the same number of days\n",
    "df_metrics['avg_n_txns_peruser'] = df_metrics['n_txns'] / df_metrics['n_users']\n",
    "df_metrics['avg_money_spent_peruser'] = df_metrics['money_spent'] / df_metrics['n_users']\n",
    "df_metrics['pct_referrals'] = df_metrics['n_referrals'] / df_metrics['n_txns']\n",
    "\n",
    "df_metrics"
   ]
  },
  {
   "cell_type": "markdown",
   "metadata": {},
   "source": [
    "## <font color='blue'> Question 1. </font> Estimate impact the program had on the site"
   ]
  },
  {
   "cell_type": "code",
   "execution_count": 44,
   "metadata": {},
   "outputs": [
    {
     "data": {
      "text/html": [
       "<div>\n",
       "<style scoped>\n",
       "    .dataframe tbody tr th:only-of-type {\n",
       "        vertical-align: middle;\n",
       "    }\n",
       "\n",
       "    .dataframe tbody tr th {\n",
       "        vertical-align: top;\n",
       "    }\n",
       "\n",
       "    .dataframe thead th {\n",
       "        text-align: right;\n",
       "    }\n",
       "</style>\n",
       "<table border=\"1\" class=\"dataframe\">\n",
       "  <thead>\n",
       "    <tr style=\"text-align: right;\">\n",
       "      <th>period_flag</th>\n",
       "      <th>a. pre</th>\n",
       "      <th>b. post</th>\n",
       "      <th>impact_value</th>\n",
       "      <th>impact_pct</th>\n",
       "    </tr>\n",
       "  </thead>\n",
       "  <tbody>\n",
       "    <tr>\n",
       "      <th>n_users</th>\n",
       "      <td>5.000000e+03</td>\n",
       "      <td>1.839700e+04</td>\n",
       "      <td>13397.000000</td>\n",
       "      <td>267.94%</td>\n",
       "    </tr>\n",
       "    <tr>\n",
       "      <th>n_txns</th>\n",
       "      <td>4.734100e+04</td>\n",
       "      <td>5.000000e+04</td>\n",
       "      <td>2659.000000</td>\n",
       "      <td>5.62%</td>\n",
       "    </tr>\n",
       "    <tr>\n",
       "      <th>money_spent</th>\n",
       "      <td>2.006396e+06</td>\n",
       "      <td>2.344003e+06</td>\n",
       "      <td>337607.000000</td>\n",
       "      <td>16.83%</td>\n",
       "    </tr>\n",
       "    <tr>\n",
       "      <th>n_referrals</th>\n",
       "      <td>0.000000e+00</td>\n",
       "      <td>2.801700e+04</td>\n",
       "      <td>28017.000000</td>\n",
       "      <td>inf%</td>\n",
       "    </tr>\n",
       "    <tr>\n",
       "      <th>avg_n_users_perday</th>\n",
       "      <td>1.851852e+02</td>\n",
       "      <td>6.813704e+02</td>\n",
       "      <td>496.185185</td>\n",
       "      <td>267.94%</td>\n",
       "    </tr>\n",
       "    <tr>\n",
       "      <th>avg_n_txns_peruser</th>\n",
       "      <td>9.468200e+00</td>\n",
       "      <td>2.717834e+00</td>\n",
       "      <td>-6.750366</td>\n",
       "      <td>-71.30%</td>\n",
       "    </tr>\n",
       "    <tr>\n",
       "      <th>avg_money_spent_peruser</th>\n",
       "      <td>4.012792e+02</td>\n",
       "      <td>1.274122e+02</td>\n",
       "      <td>-273.866959</td>\n",
       "      <td>-68.25%</td>\n",
       "    </tr>\n",
       "    <tr>\n",
       "      <th>pct_referrals</th>\n",
       "      <td>0.000000e+00</td>\n",
       "      <td>5.603400e-01</td>\n",
       "      <td>0.560340</td>\n",
       "      <td>inf%</td>\n",
       "    </tr>\n",
       "  </tbody>\n",
       "</table>\n",
       "</div>"
      ],
      "text/plain": [
       "period_flag                    a. pre       b. post   impact_value impact_pct\n",
       "n_users                  5.000000e+03  1.839700e+04   13397.000000    267.94%\n",
       "n_txns                   4.734100e+04  5.000000e+04    2659.000000      5.62%\n",
       "money_spent              2.006396e+06  2.344003e+06  337607.000000     16.83%\n",
       "n_referrals              0.000000e+00  2.801700e+04   28017.000000       inf%\n",
       "avg_n_users_perday       1.851852e+02  6.813704e+02     496.185185    267.94%\n",
       "avg_n_txns_peruser       9.468200e+00  2.717834e+00      -6.750366    -71.30%\n",
       "avg_money_spent_peruser  4.012792e+02  1.274122e+02    -273.866959    -68.25%\n",
       "pct_referrals            0.000000e+00  5.603400e-01       0.560340       inf%"
      ]
     },
     "execution_count": 44,
     "metadata": {},
     "output_type": "execute_result"
    }
   ],
   "source": [
    "# Calculate difference between post and pre (in absolute value and %s)\n",
    "df_impact = df_metrics.transpose()\n",
    "df_impact['impact_value'] = df_impact['b. post'] - df_impact['a. pre']\n",
    "df_impact['impact_pct'] = (df_impact['b. post'] - df_impact['a. pre']) / df_impact['a. pre']\n",
    "df_impact['impact_pct'] = df_impact['impact_pct'].astype(float).map(\"{:.2%}\".format)\n",
    "\n",
    "df_impact"
   ]
  },
  {
   "cell_type": "markdown",
   "metadata": {},
   "source": [
    "### Key Insights:\n",
    "- +267% users between the pre and post referral launch! This is a huge increase and on that account, the program can be consider as a success.\n",
    "- However, the avg number of txns and money spent per user both decreased by 71% and 68% respectively.\n",
    "<br> <br>\n",
    "__What does that mean__?\n",
    "<br>\n",
    "While the program was sucessful in bringing more new users, those are low txn and value or referral spent a lower amount of money. Let's profile referrals vs non-referrals in the post period to check which it is."
   ]
  },
  {
   "cell_type": "markdown",
   "metadata": {},
   "source": [
    "### Profiling of referrals in the post period"
   ]
  },
  {
   "cell_type": "code",
   "execution_count": 57,
   "metadata": {},
   "outputs": [
    {
     "data": {
      "text/html": [
       "<div>\n",
       "<style scoped>\n",
       "    .dataframe tbody tr th:only-of-type {\n",
       "        vertical-align: middle;\n",
       "    }\n",
       "\n",
       "    .dataframe tbody tr th {\n",
       "        vertical-align: top;\n",
       "    }\n",
       "\n",
       "    .dataframe thead th {\n",
       "        text-align: right;\n",
       "    }\n",
       "</style>\n",
       "<table border=\"1\" class=\"dataframe\">\n",
       "  <thead>\n",
       "    <tr style=\"text-align: right;\">\n",
       "      <th></th>\n",
       "      <th>n_users</th>\n",
       "      <th>n_txns</th>\n",
       "      <th>money_spent</th>\n",
       "      <th>avg_n_users_perday</th>\n",
       "      <th>avg_n_txns_peruser</th>\n",
       "      <th>avg_money_spent_peruser</th>\n",
       "    </tr>\n",
       "    <tr>\n",
       "      <th>is_referral</th>\n",
       "      <th></th>\n",
       "      <th></th>\n",
       "      <th></th>\n",
       "      <th></th>\n",
       "      <th></th>\n",
       "      <th></th>\n",
       "    </tr>\n",
       "  </thead>\n",
       "  <tbody>\n",
       "    <tr>\n",
       "      <th>0</th>\n",
       "      <td>11539</td>\n",
       "      <td>21983</td>\n",
       "      <td>1028216</td>\n",
       "      <td>427.370370</td>\n",
       "      <td>1.905104</td>\n",
       "      <td>89.107895</td>\n",
       "    </tr>\n",
       "    <tr>\n",
       "      <th>1</th>\n",
       "      <td>12715</td>\n",
       "      <td>28017</td>\n",
       "      <td>1315787</td>\n",
       "      <td>470.925926</td>\n",
       "      <td>2.203460</td>\n",
       "      <td>103.483052</td>\n",
       "    </tr>\n",
       "  </tbody>\n",
       "</table>\n",
       "</div>"
      ],
      "text/plain": [
       "             n_users  n_txns  money_spent  avg_n_users_perday  \\\n",
       "is_referral                                                     \n",
       "0              11539   21983      1028216          427.370370   \n",
       "1              12715   28017      1315787          470.925926   \n",
       "\n",
       "             avg_n_txns_peruser  avg_money_spent_peruser  \n",
       "is_referral                                               \n",
       "0                      1.905104                89.107895  \n",
       "1                      2.203460               103.483052  "
      ]
     },
     "execution_count": 57,
     "metadata": {},
     "output_type": "execute_result"
    }
   ],
   "source": [
    "post_period = referral['period_flag'] == 'b. post'\n",
    "df_metrics_post = pd.DataFrame([referral[post_period].groupby(['is_referral']).user_id.nunique(),\n",
    "                           referral[post_period].groupby(['is_referral']).user_id.count(),\n",
    "                           referral[post_period].groupby(['is_referral']).money_spent.sum()])\n",
    "\n",
    "df_metrics_post = df_metrics_post.transpose()\n",
    "df_metrics_post.columns = ['n_users', 'n_txns', 'money_spent']\n",
    "\n",
    "df_metrics_post['avg_n_users_perday'] = df_metrics_post['n_users'] / n_days_post.days\n",
    "df_metrics_post['avg_n_txns_peruser'] = df_metrics_post['n_txns'] / df_metrics_post['n_users']\n",
    "df_metrics_post['avg_money_spent_peruser'] = df_metrics_post['money_spent'] / df_metrics_post['n_users']\n",
    "\n",
    "df_metrics_post "
   ]
  },
  {
   "cell_type": "code",
   "execution_count": 65,
   "metadata": {},
   "outputs": [
    {
     "data": {
      "text/plain": [
       "<matplotlib.axes._subplots.AxesSubplot at 0x7fcad51934f0>"
      ]
     },
     "execution_count": 65,
     "metadata": {},
     "output_type": "execute_result"
    },
    {
     "data": {
      "image/png": "[encoded data removed]",
      "text/plain": [
       "<Figure size 576x576 with 1 Axes>"
      ]
     },
     "metadata": {
      "needs_background": "light"
     },
     "output_type": "display_data"
    }
   ],
   "source": [
    "%matplotlib inline\n",
    "df_metrics_post['avg_n_txns_peruser'].plot(kind='bar',figsize=(8,8))"
   ]
  },
  {
   "cell_type": "code",
   "execution_count": 64,
   "metadata": {},
   "outputs": [
    {
     "data": {
      "text/plain": [
       "<matplotlib.axes._subplots.AxesSubplot at 0x7fcad5170490>"
      ]
     },
     "execution_count": 64,
     "metadata": {},
     "output_type": "execute_result"
    },
    {
     "data": {
      "image/png": "[encoded data removed]",
      "text/plain": [
       "<Figure size 576x576 with 1 Axes>"
      ]
     },
     "metadata": {
      "needs_background": "light"
     },
     "output_type": "display_data"
    }
   ],
   "source": [
    "df_metrics_post['avg_money_spent_peruser'].plot(kind='bar',figsize=(8,8))"
   ]
  },
  {
   "cell_type": "markdown",
   "metadata": {},
   "source": [
    "From our quick profiling analysis we see that in the post period referrals have a higher number of txns and they spent (on avg) more money"
   ]
  },
  {
   "cell_type": "markdown",
   "metadata": {},
   "source": [
    "## <font color='blue'> Question 2. </font> Based on the data, what would you suggest to do as a next step?"
   ]
  },
  {
   "cell_type": "markdown",
   "metadata": {},
   "source": [
    "- Explore changes in user behaviour between pre and post period for those who transacted in pre and post: This will tell us whether repeat users who referred actually spent less than those who repeat and did not referred anyone.\n"
   ]
  },
  {
   "cell_type": "markdown",
   "metadata": {},
   "source": [
    "## <font color='blue'> Question 3. </font> \n",
    "## What kinds of risks this approach presents?\n",
    "## Can you think of a better way to test the referral program and measure its impact?"
   ]
  },
  {
   "cell_type": "markdown",
   "metadata": {},
   "source": [
    "- If there is seasonality in the website usage (txn/money spent), this type of approach may be skewed and the results can mislead us into thinking it the referral program worked whereas it is only the result of \"organic\" change."
   ]
  },
  {
   "cell_type": "markdown",
   "metadata": {},
   "source": [
    "- A/B tests: Run an experiment holding a control group (i.e. no referral) and also try different referral amount structurs to understand what type of incentive works best."
   ]
  },
  {
   "cell_type": "code",
   "execution_count": null,
   "metadata": {},
   "outputs": [],
   "source": []
  }
 ],
 "metadata": {
  "kernelspec": {
   "display_name": "Python 3",
   "language": "python",
   "name": "python3"
  },
  "language_info": {
   "codemirror_mode": {
    "name": "ipython",
    "version": 3
   },
   "file_extension": ".py",
   "mimetype": "text/x-python",
   "name": "python",
   "nbconvert_exporter": "python",
   "pygments_lexer": "ipython3",
   "version": "3.8.3"
  }
 },
 "nbformat": 4,
 "nbformat_minor": 4
}
